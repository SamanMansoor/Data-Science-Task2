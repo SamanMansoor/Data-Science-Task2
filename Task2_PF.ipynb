{
  "nbformat": 4,
  "nbformat_minor": 0,
  "metadata": {
    "colab": {
      "provenance": []
    },
    "kernelspec": {
      "name": "python3",
      "display_name": "Python 3"
    },
    "language_info": {
      "name": "python"
    }
  },
  "cells": [
    {
      "cell_type": "markdown",
      "source": [
        "# **Task#1**"
      ],
      "metadata": {
        "id": "5tTHNVx7YTZ9"
      }
    },
    {
      "cell_type": "code",
      "source": [
        "try:\n",
        "    my_list = []\n",
        "      \n",
        "    while True:\n",
        "        my_list.append(int(input(\"Enter a value: \")))\n",
        "          \n",
        "# if the input is not-integer, just print the list\n",
        "except:\n",
        "    print(\"List is:\",my_list)\n",
        "    print(\"Sorted list is:\",sorted(my_list))\n",
        "    my_list.append(int(input(\"Enter a value: \")))\n",
        "    print(\"Sorted list is:\",sorted(my_list))"
      ],
      "metadata": {
        "colab": {
          "base_uri": "https://localhost:8080/"
        },
        "id": "8K-49iyPTS8N",
        "outputId": "38d3f588-c027-43bb-a386-031ed237c908"
      },
      "execution_count": 50,
      "outputs": [
        {
          "output_type": "stream",
          "name": "stdout",
          "text": [
            "Enter a value2\n",
            "Enter a value4\n",
            "Enter a value6\n",
            "Enter a value3\n",
            "Enter a value5\n",
            "Enter a value\n",
            "List is: [2, 4, 6, 3, 5]\n",
            "Sorted list is: [2, 3, 4, 5, 6]\n",
            "Enter a value1\n",
            "Sorted list is: [1, 2, 3, 4, 5, 6]\n"
          ]
        }
      ]
    },
    {
      "cell_type": "markdown",
      "source": [
        "# **Task#2**"
      ],
      "metadata": {
        "id": "HxECQVAVYslo"
      }
    },
    {
      "cell_type": "code",
      "source": [
        "from collections import deque\n",
        "try:\n",
        "    my_list = []\n",
        "      \n",
        "    while True:\n",
        "        my_list.append(int(input(\"Enter a value: \")))\n",
        "          \n",
        "except:\n",
        "    print(\"List is:\",my_list)\n",
        "    queue=deque(my_list)\n",
        "\n",
        "    print(\"Queue of List:\",queue)\n",
        "    queue.popleft()\n",
        "    print(\"First out: \" ,queue)\n",
        "    \n",
        "    \n",
        "    "
      ],
      "metadata": {
        "colab": {
          "base_uri": "https://localhost:8080/"
        },
        "id": "lrPFaQz-iXMo",
        "outputId": "9d5e0303-5396-4adc-af70-d89306565f33"
      },
      "execution_count": 84,
      "outputs": [
        {
          "output_type": "stream",
          "name": "stdout",
          "text": [
            "Enter a value: 2\n",
            "Enter a value: 3\n",
            "Enter a value: 4\n",
            "Enter a value: \n",
            "List is: [2, 3, 4]\n",
            "Queue of List: deque([2, 3, 4])\n",
            "First out:  deque([3, 4])\n"
          ]
        }
      ]
    }
  ]
}